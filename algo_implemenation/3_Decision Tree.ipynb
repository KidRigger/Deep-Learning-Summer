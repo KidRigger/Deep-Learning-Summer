{
 "cells": [
  {
   "cell_type": "code",
   "execution_count": 13,
   "metadata": {},
   "outputs": [
    {
     "name": "stdout",
     "output_type": "stream",
     "text": [
      "Score of the model: 1.0\n",
      "Predicted values: [1 2 0 1 0 1 2 1 0 1 1 2 1 0 0 2 1 0 0 0 2 2 2 0 1 0 1 1 2 2 1 1 1 2 2 0 2\n",
      " 2 2 2 0 0 1 0 1 0 2 2 2 2]\n"
     ]
    },
    {
     "data": {
      "text/plain": [
       "Text(0,0.5,'Residuals')"
      ]
     },
     "execution_count": 13,
     "metadata": {},
     "output_type": "execute_result"
    },
    {
     "data": {
      "image/png": "[encoded data removed]",
      "text/plain": [
       "<matplotlib.figure.Figure at 0x7f8343949160>"
      ]
     },
     "metadata": {},
     "output_type": "display_data"
    }
   ],
   "source": [
    "import numpy as np \n",
    "import pandas as pd\n",
    "import matplotlib.pyplot as plt\n",
    "from sklearn import tree,datasets\n",
    "from sklearn.cross_validation import train_test_split\n",
    "\n",
    "iris_df=datasets.load_iris()\n",
    "X=iris_df.data[:,0:4]\n",
    "Y=iris_df.target\n",
    "\n",
    "X_train , X_test, Y_train, Y_test=sklearn.cross_validation.train_test_split(X,Y,test_size=0.33,random_state=10)\n",
    "model =tree.DecisionTreeClassifier(criterion='gini')\n",
    "model.fit(X_train,Y_train)\n",
    "print ('Score of the model: '+str(model.score(X_train,Y_train)))\n",
    "\n",
    "print ('Predicted values: '+str(model.predict(X_test)))\n",
    "pred_train=(model.predict(X_train))\n",
    "pred_test=model.predict(X_test)\n",
    "plt.scatter(pred_train,pred_train-Y_train,c='b',s=40,alpha=0.5,marker='x')\n",
    "plt.scatter(pred_test,pred_test-Y_test,c='g',s=10)\n",
    "plt.title('Residual plot using training (blue) and test(green) data')\n",
    "plt.ylabel('Residuals')"
   ]
  },
  {
   "cell_type": "code",
   "execution_count": 28,
   "metadata": {},
   "outputs": [
    {
     "name": "stdout",
     "output_type": "stream",
     "text": [
      "------------ Trained fruit_classifier ----------\n",
      "DecisionTreeClassifier(class_weight=None, criterion='gini', max_depth=None,\n",
      "            max_features=None, max_leaf_nodes=None,\n",
      "            min_impurity_decrease=0.0, min_impurity_split=None,\n",
      "            min_samples_leaf=1, min_samples_split=2,\n",
      "            min_weight_fraction_leaf=0.0, presort=False, random_state=None,\n",
      "            splitter='best')\n",
      "Actual fruit type: 1 , Fruit classifier predicted: [1]\n",
      "Actual fruit type: 1 , Fruit classifier predicted: [1]\n",
      "Actual fruit type: 0 , Fruit classifier predicted: [0]\n"
     ]
    }
   ],
   "source": [
    "import pandas as pd\n",
    "import numpy as np\n",
    "from sklearn import tree\n",
    "fruit_data_set = pd.DataFrame()\n",
    "fruit_data_set[\"fruit\"] = np.array([1, 1, 1, 1, 1,      # 1 for apple\n",
    "                                    0, 0, 0, 0, 0])     # 0 for orange\n",
    "fruit_data_set[\"weight\"] = np.array([170, 175, 180, 178, 182,\n",
    "                                     130, 120, 130, 138, 145])\n",
    "fruit_data_set[\"smooth\"] = np.array([9, 10, 8, 8, 7,\n",
    "                                     3, 4, 2, 5, 6])\n",
    "\n",
    "fruit_classifier=tree.DecisionTreeClassifier()\n",
    "fruit_classifier.fit(fruit_data_set[[\"weight\",\"smooth\"]],fruit_data_set[\"fruit\"])\n",
    "print (\"------------ Trained fruit_classifier ----------\")\n",
    "print (str(fruit_classifier))\n",
    "\n",
    "# fruit data set 1st observation\n",
    "test_features_1 = [[fruit_data_set[\"weight\"][0], fruit_data_set[\"smooth\"][0]]]\n",
    "test_features_1_fruit = fruit_classifier.predict(test_features_1)\n",
    "print (\"Actual fruit type: {act_fruit} , Fruit classifier predicted: {predicted_fruit}\".format(\n",
    "    act_fruit=fruit_data_set[\"fruit\"][0], predicted_fruit=test_features_1_fruit))\n",
    "\n",
    "# fruit data set 3rd observation\n",
    "test_features_3 = [[fruit_data_set[\"weight\"][2], fruit_data_set[\"smooth\"][2]]]\n",
    "test_features_3_fruit = fruit_classifier.predict(test_features_3)\n",
    "print (\"Actual fruit type: {act_fruit} , Fruit classifier predicted: {predicted_fruit}\".format(\n",
    "    act_fruit=fruit_data_set[\"fruit\"][2], predicted_fruit=test_features_3_fruit))\n",
    "\n",
    "# fruit data set 8th observation\n",
    "test_features_8 = [[fruit_data_set[\"weight\"][7], fruit_data_set[\"smooth\"][7]]]\n",
    "test_features_8_fruit = fruit_classifier.predict(test_features_8)\n",
    "print (\"Actual fruit type: {act_fruit} , Fruit classifier predicted: {predicted_fruit}\".format(\n",
    "    act_fruit=fruit_data_set[\"fruit\"][7], predicted_fruit=test_features_8_fruit))\n",
    "with open(\"/home/nishchay/Documents/Arcon/fruit_classifier.txt\", \"w\") as f:\n",
    "    f = tree.export_graphviz(fruit_classifier, out_file=f)\n",
    "\n",
    "# converting into the pdf file\n",
    "with open(\"/home/nishchay/Documents/Arcon/fruit_classifier.dot\", \"w\") as f:\n",
    "    f = tree.export_graphviz(fruit_classifier, out_file=f)"
   ]
  },
  {
   "cell_type": "code",
   "execution_count": null,
   "metadata": {},
   "outputs": [],
   "source": []
  }
 ],
 "metadata": {
  "kernelspec": {
   "display_name": "Python 3",
   "language": "python",
   "name": "python3"
  },
  "language_info": {
   "codemirror_mode": {
    "name": "ipython",
    "version": 3
   },
   "file_extension": ".py",
   "mimetype": "text/x-python",
   "name": "python",
   "nbconvert_exporter": "python",
   "pygments_lexer": "ipython3",
   "version": "3.6.4"
  }
 },
 "nbformat": 4,
 "nbformat_minor": 2
}
