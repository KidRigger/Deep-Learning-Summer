{
 "cells": [
  {
   "cell_type": "code",
   "execution_count": 23,
   "metadata": {},
   "outputs": [
    {
     "name": "stdout",
     "output_type": "stream",
     "text": [
      "Accuracy: 0.7513368983957219\n"
     ]
    }
   ],
   "source": [
    "import numpy as np\n",
    "from sklearn.neighbors import KNeighborsClassifier\n",
    "import pandas as pd\n",
    "import time\n",
    "import matplotlib.pyplot as plt\n",
    "from sklearn.model_selection import train_test_split\n",
    "\n",
    "df= pd.read_csv('/home/nishchay/Documents/Arcon/Day9/transfusion.csv')\n",
    "X=df.iloc[:,0:4]\n",
    "\n",
    "Y=df.iloc[:,4]\n",
    "\n",
    "X_train, X_test, Y_train,Y_test= train_test_split(X,Y, test_size=0.5, random_state=int(time.time()))\n",
    "model=KNeighborsClassifier(n_neighbors=6) \n",
    "model.fit(X_train, Y_train)\n",
    "\n",
    "predicted= model.predict(X_test)\n",
    "error=predicted -Y_test\n",
    "print ('Accuracy: '+str(model.score(X_test,Y_test)))"
   ]
  },
  {
   "cell_type": "code",
   "execution_count": null,
   "metadata": {},
   "outputs": [],
   "source": []
  }
 ],
 "metadata": {
  "kernelspec": {
   "display_name": "Python 3",
   "language": "python",
   "name": "python3"
  },
  "language_info": {
   "codemirror_mode": {
    "name": "ipython",
    "version": 3
   },
   "file_extension": ".py",
   "mimetype": "text/x-python",
   "name": "python",
   "nbconvert_exporter": "python",
   "pygments_lexer": "ipython3",
   "version": "3.6.4"
  }
 },
 "nbformat": 4,
 "nbformat_minor": 2
}
